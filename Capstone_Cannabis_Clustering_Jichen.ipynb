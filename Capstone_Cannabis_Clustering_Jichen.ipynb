{
 "cells": [
  {
   "cell_type": "code",
   "execution_count": 31,
   "metadata": {},
   "outputs": [],
   "source": [
    "# Clustering is an unsupervised learning technique\n",
    "# Grouping “similar” instances together into clusters"
   ]
  },
  {
   "cell_type": "code",
   "execution_count": 1,
   "metadata": {},
   "outputs": [
    {
     "name": "stdout",
     "output_type": "stream",
     "text": [
      "2021-07-09 12:50:41.507899\n"
     ]
    }
   ],
   "source": [
    "import datetime\n",
    "print(datetime.datetime.now())"
   ]
  },
  {
   "cell_type": "code",
   "execution_count": 27,
   "metadata": {},
   "outputs": [],
   "source": [
    "import pandas as pd\n",
    "import numpy as np\n",
    "\n",
    "import matplotlib.pyplot as plt\n",
    "%matplotlib inline\n",
    "\n",
    "from IPython.core.interactiveshell import InteractiveShell\n",
    "InteractiveShell.ast_node_interactivity = \"all\""
   ]
  },
  {
   "cell_type": "code",
   "execution_count": 3,
   "metadata": {},
   "outputs": [],
   "source": [
    "# Default plot settings\n",
    "SMALL_SIZE = 12\n",
    "MEDIUM_SIZE = 14\n",
    "BIGGER_SIZE = 16\n",
    "\n",
    "\n",
    "plt.rc('figure', figsize=[8.0, 5.0])    \n",
    "plt.rc('font', size=SMALL_SIZE)          \n",
    "plt.rc('axes', titlesize=SMALL_SIZE)     \n",
    "plt.rc('axes', labelsize=MEDIUM_SIZE)    \n",
    "plt.rc('xtick', labelsize=SMALL_SIZE)   \n",
    "plt.rc('ytick', labelsize=SMALL_SIZE)    \n",
    "plt.rc('legend', fontsize=SMALL_SIZE)   \n",
    "plt.rc('figure', titlesize=BIGGER_SIZE)  \n",
    "plt.rc('axes', grid=True)"
   ]
  },
  {
   "cell_type": "markdown",
   "metadata": {},
   "source": [
    "# Read in Data"
   ]
  },
  {
   "cell_type": "code",
   "execution_count": 4,
   "metadata": {},
   "outputs": [],
   "source": [
    "df = pd.read_csv('dataset.csv')"
   ]
  },
  {
   "cell_type": "code",
   "execution_count": 5,
   "metadata": {},
   "outputs": [
    {
     "data": {
      "text/html": [
       "<div>\n",
       "<style scoped>\n",
       "    .dataframe tbody tr th:only-of-type {\n",
       "        vertical-align: middle;\n",
       "    }\n",
       "\n",
       "    .dataframe tbody tr th {\n",
       "        vertical-align: top;\n",
       "    }\n",
       "\n",
       "    .dataframe thead th {\n",
       "        text-align: right;\n",
       "    }\n",
       "</style>\n",
       "<table border=\"1\" class=\"dataframe\">\n",
       "  <thead>\n",
       "    <tr style=\"text-align: right;\">\n",
       "      <th></th>\n",
       "      <th>ID</th>\n",
       "      <th>Investor Name</th>\n",
       "      <th>Value Subscribed</th>\n",
       "      <th>Beneficiary Province/State (parsed)</th>\n",
       "      <th>Beneficiary Country (parsed)</th>\n",
       "    </tr>\n",
       "  </thead>\n",
       "  <tbody>\n",
       "    <tr>\n",
       "      <th>0</th>\n",
       "      <td>0</td>\n",
       "      <td>Linton Family Trust (2040)</td>\n",
       "      <td>1750.0</td>\n",
       "      <td>Ontario</td>\n",
       "      <td>Canada</td>\n",
       "    </tr>\n",
       "    <tr>\n",
       "      <th>1</th>\n",
       "      <td>1</td>\n",
       "      <td>Graeme Davis</td>\n",
       "      <td>11375.0</td>\n",
       "      <td>Ontario</td>\n",
       "      <td>Canada</td>\n",
       "    </tr>\n",
       "    <tr>\n",
       "      <th>2</th>\n",
       "      <td>2</td>\n",
       "      <td>Jeffrey P Minor</td>\n",
       "      <td>5250.0</td>\n",
       "      <td>Ohio</td>\n",
       "      <td>United States</td>\n",
       "    </tr>\n",
       "    <tr>\n",
       "      <th>3</th>\n",
       "      <td>3</td>\n",
       "      <td>Benjamin  Gray</td>\n",
       "      <td>1050.0</td>\n",
       "      <td>Michigan</td>\n",
       "      <td>United States</td>\n",
       "    </tr>\n",
       "    <tr>\n",
       "      <th>4</th>\n",
       "      <td>4</td>\n",
       "      <td>Felix Gonzalez</td>\n",
       "      <td>1050.0</td>\n",
       "      <td>New York</td>\n",
       "      <td>United States</td>\n",
       "    </tr>\n",
       "  </tbody>\n",
       "</table>\n",
       "</div>"
      ],
      "text/plain": [
       "   ID               Investor Name  Value Subscribed  \\\n",
       "0   0  Linton Family Trust (2040)            1750.0   \n",
       "1   1                Graeme Davis           11375.0   \n",
       "2   2             Jeffrey P Minor            5250.0   \n",
       "3   3              Benjamin  Gray            1050.0   \n",
       "4   4              Felix Gonzalez            1050.0   \n",
       "\n",
       "  Beneficiary Province/State (parsed) Beneficiary Country (parsed)  \n",
       "0                             Ontario                       Canada  \n",
       "1                             Ontario                       Canada  \n",
       "2                                Ohio                United States  \n",
       "3                            Michigan                United States  \n",
       "4                            New York                United States  "
      ]
     },
     "execution_count": 5,
     "metadata": {},
     "output_type": "execute_result"
    }
   ],
   "source": [
    "df.head()"
   ]
  },
  {
   "cell_type": "code",
   "execution_count": 6,
   "metadata": {},
   "outputs": [],
   "source": [
    "df = df.drop(['ID','Investor Name'],axis=1)"
   ]
  },
  {
   "cell_type": "code",
   "execution_count": 7,
   "metadata": {},
   "outputs": [
    {
     "data": {
      "text/plain": [
       "(1174, 3)"
      ]
     },
     "execution_count": 7,
     "metadata": {},
     "output_type": "execute_result"
    },
    {
     "name": "stdout",
     "output_type": "stream",
     "text": [
      "<class 'pandas.core.frame.DataFrame'>\n",
      "RangeIndex: 1174 entries, 0 to 1173\n",
      "Data columns (total 3 columns):\n",
      " #   Column                               Non-Null Count  Dtype  \n",
      "---  ------                               --------------  -----  \n",
      " 0   Value Subscribed                     1174 non-null   float64\n",
      " 1   Beneficiary Province/State (parsed)  1161 non-null   object \n",
      " 2   Beneficiary Country (parsed)         1168 non-null   object \n",
      "dtypes: float64(1), object(2)\n",
      "memory usage: 27.6+ KB\n"
     ]
    },
    {
     "data": {
      "text/html": [
       "<div>\n",
       "<style scoped>\n",
       "    .dataframe tbody tr th:only-of-type {\n",
       "        vertical-align: middle;\n",
       "    }\n",
       "\n",
       "    .dataframe tbody tr th {\n",
       "        vertical-align: top;\n",
       "    }\n",
       "\n",
       "    .dataframe thead th {\n",
       "        text-align: right;\n",
       "    }\n",
       "</style>\n",
       "<table border=\"1\" class=\"dataframe\">\n",
       "  <thead>\n",
       "    <tr style=\"text-align: right;\">\n",
       "      <th></th>\n",
       "      <th>Value Subscribed</th>\n",
       "      <th>Beneficiary Province/State (parsed)</th>\n",
       "      <th>Beneficiary Country (parsed)</th>\n",
       "    </tr>\n",
       "  </thead>\n",
       "  <tbody>\n",
       "    <tr>\n",
       "      <th>0</th>\n",
       "      <td>1750.0</td>\n",
       "      <td>Ontario</td>\n",
       "      <td>Canada</td>\n",
       "    </tr>\n",
       "    <tr>\n",
       "      <th>1</th>\n",
       "      <td>11375.0</td>\n",
       "      <td>Ontario</td>\n",
       "      <td>Canada</td>\n",
       "    </tr>\n",
       "    <tr>\n",
       "      <th>2</th>\n",
       "      <td>5250.0</td>\n",
       "      <td>Ohio</td>\n",
       "      <td>United States</td>\n",
       "    </tr>\n",
       "    <tr>\n",
       "      <th>3</th>\n",
       "      <td>1050.0</td>\n",
       "      <td>Michigan</td>\n",
       "      <td>United States</td>\n",
       "    </tr>\n",
       "    <tr>\n",
       "      <th>4</th>\n",
       "      <td>1050.0</td>\n",
       "      <td>New York</td>\n",
       "      <td>United States</td>\n",
       "    </tr>\n",
       "  </tbody>\n",
       "</table>\n",
       "</div>"
      ],
      "text/plain": [
       "   Value Subscribed Beneficiary Province/State (parsed)  \\\n",
       "0            1750.0                             Ontario   \n",
       "1           11375.0                             Ontario   \n",
       "2            5250.0                                Ohio   \n",
       "3            1050.0                            Michigan   \n",
       "4            1050.0                            New York   \n",
       "\n",
       "  Beneficiary Country (parsed)  \n",
       "0                       Canada  \n",
       "1                       Canada  \n",
       "2                United States  \n",
       "3                United States  \n",
       "4                United States  "
      ]
     },
     "execution_count": 7,
     "metadata": {},
     "output_type": "execute_result"
    }
   ],
   "source": [
    "df.shape\n",
    "df.info()\n",
    "df.head()"
   ]
  },
  {
   "cell_type": "code",
   "execution_count": 8,
   "metadata": {},
   "outputs": [],
   "source": [
    "df = df.rename(columns={'Beneficiary Province/State (parsed)':'Beneficiary State'})\n",
    "df = df.rename(columns={'Beneficiary Country (parsed)':'Beneficiary Country'})"
   ]
  },
  {
   "cell_type": "code",
   "execution_count": 9,
   "metadata": {},
   "outputs": [
    {
     "name": "stdout",
     "output_type": "stream",
     "text": [
      "cat_col_names: ['Beneficiary State', 'Beneficiary Country']\n",
      "num_col_names: ['Value Subscribed']\n"
     ]
    },
    {
     "name": "stderr",
     "output_type": "stream",
     "text": [
      "<ipython-input-9-f4b08b0876c3>:3: DeprecationWarning: `np.object` is a deprecated alias for the builtin `object`. To silence this warning, use `object` by itself. Doing this will not modify any behavior and is safe. \n",
      "Deprecated in NumPy 1.20; for more details and guidance: https://numpy.org/devdocs/release/1.20.0-notes.html#deprecations\n",
      "  cat_col_names = list(df.select_dtypes(include=np.object).columns)\n"
     ]
    }
   ],
   "source": [
    "n_features = df.shape[1]\n",
    "\n",
    "cat_col_names = list(df.select_dtypes(include=np.object).columns)\n",
    "num_col_names = list(df.select_dtypes(include=np.number).columns)\n",
    "\n",
    "print('cat_col_names: {}'.format(cat_col_names))\n",
    "print('num_col_names: {}'.format(num_col_names))"
   ]
  },
  {
   "cell_type": "markdown",
   "metadata": {},
   "source": [
    "# Data Description"
   ]
  },
  {
   "cell_type": "code",
   "execution_count": 14,
   "metadata": {},
   "outputs": [
    {
     "data": {
      "text/html": [
       "<div>\n",
       "<style scoped>\n",
       "    .dataframe tbody tr th:only-of-type {\n",
       "        vertical-align: middle;\n",
       "    }\n",
       "\n",
       "    .dataframe tbody tr th {\n",
       "        vertical-align: top;\n",
       "    }\n",
       "\n",
       "    .dataframe thead th {\n",
       "        text-align: right;\n",
       "    }\n",
       "</style>\n",
       "<table border=\"1\" class=\"dataframe\">\n",
       "  <thead>\n",
       "    <tr style=\"text-align: right;\">\n",
       "      <th></th>\n",
       "      <th>count</th>\n",
       "      <th>mean</th>\n",
       "      <th>std</th>\n",
       "      <th>min</th>\n",
       "      <th>25%</th>\n",
       "      <th>50%</th>\n",
       "      <th>75%</th>\n",
       "      <th>max</th>\n",
       "    </tr>\n",
       "  </thead>\n",
       "  <tbody>\n",
       "    <tr>\n",
       "      <th>Value Subscribed</th>\n",
       "      <td>1174.0</td>\n",
       "      <td>43340.046848</td>\n",
       "      <td>605355.929602</td>\n",
       "      <td>0.0</td>\n",
       "      <td>1085.0</td>\n",
       "      <td>2100.0</td>\n",
       "      <td>5250.0</td>\n",
       "      <td>15625001.0</td>\n",
       "    </tr>\n",
       "  </tbody>\n",
       "</table>\n",
       "</div>"
      ],
      "text/plain": [
       "                   count          mean            std  min     25%     50%  \\\n",
       "Value Subscribed  1174.0  43340.046848  605355.929602  0.0  1085.0  2100.0   \n",
       "\n",
       "                     75%         max  \n",
       "Value Subscribed  5250.0  15625001.0  "
      ]
     },
     "execution_count": 14,
     "metadata": {},
     "output_type": "execute_result"
    },
    {
     "data": {
      "text/html": [
       "<div>\n",
       "<style scoped>\n",
       "    .dataframe tbody tr th:only-of-type {\n",
       "        vertical-align: middle;\n",
       "    }\n",
       "\n",
       "    .dataframe tbody tr th {\n",
       "        vertical-align: top;\n",
       "    }\n",
       "\n",
       "    .dataframe thead th {\n",
       "        text-align: right;\n",
       "    }\n",
       "</style>\n",
       "<table border=\"1\" class=\"dataframe\">\n",
       "  <thead>\n",
       "    <tr style=\"text-align: right;\">\n",
       "      <th></th>\n",
       "      <th>count</th>\n",
       "      <th>unique</th>\n",
       "      <th>top</th>\n",
       "      <th>freq</th>\n",
       "    </tr>\n",
       "  </thead>\n",
       "  <tbody>\n",
       "    <tr>\n",
       "      <th>Beneficiary State</th>\n",
       "      <td>1161</td>\n",
       "      <td>70</td>\n",
       "      <td>Michigan</td>\n",
       "      <td>210</td>\n",
       "    </tr>\n",
       "    <tr>\n",
       "      <th>Beneficiary Country</th>\n",
       "      <td>1168</td>\n",
       "      <td>17</td>\n",
       "      <td>United States</td>\n",
       "      <td>1019</td>\n",
       "    </tr>\n",
       "  </tbody>\n",
       "</table>\n",
       "</div>"
      ],
      "text/plain": [
       "                    count unique            top  freq\n",
       "Beneficiary State    1161     70       Michigan   210\n",
       "Beneficiary Country  1168     17  United States  1019"
      ]
     },
     "execution_count": 14,
     "metadata": {},
     "output_type": "execute_result"
    }
   ],
   "source": [
    "# Descriptive stats of the numeric features\n",
    "df.describe(include=[np.number]).transpose()\n",
    "df.describe(include=[object]).transpose()"
   ]
  },
  {
   "cell_type": "code",
   "execution_count": 11,
   "metadata": {},
   "outputs": [
    {
     "name": "stderr",
     "output_type": "stream",
     "text": [
      "<ipython-input-11-a37cbc70ef65>:2: DeprecationWarning: `np.object` is a deprecated alias for the builtin `object`. To silence this warning, use `object` by itself. Doing this will not modify any behavior and is safe. \n",
      "Deprecated in NumPy 1.20; for more details and guidance: https://numpy.org/devdocs/release/1.20.0-notes.html#deprecations\n",
      "  df.describe(include=[np.object]).transpose()\n"
     ]
    },
    {
     "data": {
      "text/html": [
       "<div>\n",
       "<style scoped>\n",
       "    .dataframe tbody tr th:only-of-type {\n",
       "        vertical-align: middle;\n",
       "    }\n",
       "\n",
       "    .dataframe tbody tr th {\n",
       "        vertical-align: top;\n",
       "    }\n",
       "\n",
       "    .dataframe thead th {\n",
       "        text-align: right;\n",
       "    }\n",
       "</style>\n",
       "<table border=\"1\" class=\"dataframe\">\n",
       "  <thead>\n",
       "    <tr style=\"text-align: right;\">\n",
       "      <th></th>\n",
       "      <th>count</th>\n",
       "      <th>unique</th>\n",
       "      <th>top</th>\n",
       "      <th>freq</th>\n",
       "    </tr>\n",
       "  </thead>\n",
       "  <tbody>\n",
       "    <tr>\n",
       "      <th>Beneficiary State</th>\n",
       "      <td>1161</td>\n",
       "      <td>70</td>\n",
       "      <td>Michigan</td>\n",
       "      <td>210</td>\n",
       "    </tr>\n",
       "    <tr>\n",
       "      <th>Beneficiary Country</th>\n",
       "      <td>1168</td>\n",
       "      <td>17</td>\n",
       "      <td>United States</td>\n",
       "      <td>1019</td>\n",
       "    </tr>\n",
       "  </tbody>\n",
       "</table>\n",
       "</div>"
      ],
      "text/plain": [
       "                    count unique            top  freq\n",
       "Beneficiary State    1161     70       Michigan   210\n",
       "Beneficiary Country  1168     17  United States  1019"
      ]
     },
     "execution_count": 11,
     "metadata": {},
     "output_type": "execute_result"
    }
   ],
   "source": [
    "# Descriptive stats of the categorical features\n",
    "df.describe(include=[np.object]).transpose()"
   ]
  },
  {
   "cell_type": "markdown",
   "metadata": {},
   "source": [
    "# Data Preprocessing"
   ]
  },
  {
   "cell_type": "code",
   "execution_count": 15,
   "metadata": {},
   "outputs": [
    {
     "data": {
      "text/plain": [
       "array([[-0.06873273904606032, 'Ontario', 'Canada'],\n",
       "       [-0.05282622622749942, 'Ontario', 'Canada'],\n",
       "       [-0.06294855256658363, 'Ohio', 'United States'],\n",
       "       ...,\n",
       "       [-0.030311280356136387, 'Québec', 'Canada'],\n",
       "       [0.01348947175970088, 'Québec', 'Canada'],\n",
       "       [-0.06584064580632198, 'Florida', 'United States']], dtype=object)"
      ]
     },
     "execution_count": 15,
     "metadata": {},
     "output_type": "execute_result"
    }
   ],
   "source": [
    "from sklearn.preprocessing import StandardScaler\n",
    "\n",
    "X_num = df[num_col_names].to_numpy()\n",
    "X_cat = df[cat_col_names].to_numpy()\n",
    "\n",
    "# scale all numeric features\n",
    "scaler = StandardScaler()\n",
    "X_num = scaler.fit_transform(X_num)\n",
    "\n",
    "X = np.concatenate((X_num, X_cat), axis=1)\n",
    "X"
   ]
  },
  {
   "cell_type": "markdown",
   "metadata": {},
   "source": [
    "# Distance Calculation"
   ]
  },
  {
   "cell_type": "code",
   "execution_count": 16,
   "metadata": {},
   "outputs": [],
   "source": [
    "from scipy.spatial import distance\n",
    "\n",
    "# define function to handle both types of features (distance metrics-how far apart two instances are from each other)\n",
    "\n",
    "def custom_dist(x1, x2, cat_cols=None, num_cols=None):\n",
    "   \n",
    "    n = len(x1)\n",
    "    #print(x1)\n",
    "    #print(num_cols)\n",
    "    #print(x1[num_cols])\n",
    "    #print(x2)\n",
    "\n",
    "    dist_num = distance.euclidean(x1[num_cols], x2[num_cols])\n",
    "    #print(dist_num)\n",
    "    dist_cat = distance.hamming(x1[cat_cols], x2[cat_cols])\n",
    "    #print(dist_cat)\n",
    "    \n",
    "    dist = (dist_num*sum(num_cols) + dist_cat*sum(cat_cols)) / n\n",
    "    #print(dist)\n",
    "    return dist"
   ]
  },
  {
   "cell_type": "code",
   "execution_count": 17,
   "metadata": {},
   "outputs": [],
   "source": [
    "# custom distance metric on all pairs of rows in our dataset to create custom distance matrix.\n",
    "\n",
    "from scipy.spatial.distance import pdist\n",
    "\n",
    "cat_cols = [type(x)==str for x in X[1,:]]\n",
    "num_cols = [not x for x in cat_cols]\n",
    "\n",
    "Y = pdist(X, custom_dist, cat_cols=cat_cols, num_cols=num_cols)"
   ]
  },
  {
   "cell_type": "code",
   "execution_count": 29,
   "metadata": {},
   "outputs": [
    {
     "data": {
      "text/plain": [
       "<Figure size 720x504 with 0 Axes>"
      ]
     },
     "execution_count": 29,
     "metadata": {},
     "output_type": "execute_result"
    },
    {
     "data": {
      "text/plain": [
       "<matplotlib.lines.Line2D at 0x24da8a51070>"
      ]
     },
     "execution_count": 29,
     "metadata": {},
     "output_type": "execute_result"
    },
    {
     "data": {
      "image/png": "[encoded data removed]",
      "text/plain": [
       "<Figure size 720x504 with 1 Axes>"
      ]
     },
     "metadata": {
      "needs_background": "light"
     },
     "output_type": "display_data"
    }
   ],
   "source": [
    "# Perform hierarchical clustering, using custom-built distance matrix. (ward linkage for measuring the distance between clusters)\n",
    "\n",
    "import scipy.cluster.hierarchy as shc\n",
    "plt.figure(figsize=(10, 7));\n",
    "plt.grid(False)\n",
    "dend = shc.dendrogram(shc.linkage(Y, method='ward'))\n",
    "plt.axhline(y=4, color='r', linestyle='--')"
   ]
  },
  {
   "cell_type": "code",
   "execution_count": 24,
   "metadata": {},
   "outputs": [
    {
     "data": {
      "image/png": "[encoded data removed]",
      "text/plain": [
       "<Figure size 720x504 with 1 Axes>"
      ]
     },
     "metadata": {
      "needs_background": "light"
     },
     "output_type": "display_data"
    }
   ],
   "source": [
    "plt.figure(figsize=(10, 7));\n",
    "plt.grid(False)\n",
    "dend = scipy.cluster.hierarchy.dendrogram(aggl);"
   ]
  },
  {
   "cell_type": "code",
   "execution_count": 30,
   "metadata": {},
   "outputs": [],
   "source": [
    "# find K=4 clusters\n",
    "K=4\n",
    "labels = scipy.cluster.hierarchy.fcluster(aggl, K, criterion=\"maxclust\")"
   ]
  },
  {
   "cell_type": "markdown",
   "metadata": {},
   "source": [
    "# Show Textual Feature Stats for Each Cluster"
   ]
  },
  {
   "cell_type": "code",
   "execution_count": 32,
   "metadata": {},
   "outputs": [
    {
     "name": "stdout",
     "output_type": "stream",
     "text": [
      "All Data:\n",
      "Number of Instances: 1174\n"
     ]
    },
    {
     "data": {
      "text/html": [
       "<div>\n",
       "<style scoped>\n",
       "    .dataframe tbody tr th:only-of-type {\n",
       "        vertical-align: middle;\n",
       "    }\n",
       "\n",
       "    .dataframe tbody tr th {\n",
       "        vertical-align: top;\n",
       "    }\n",
       "\n",
       "    .dataframe thead th {\n",
       "        text-align: right;\n",
       "    }\n",
       "</style>\n",
       "<table border=\"1\" class=\"dataframe\">\n",
       "  <thead>\n",
       "    <tr style=\"text-align: right;\">\n",
       "      <th></th>\n",
       "      <th>count</th>\n",
       "      <th>mean</th>\n",
       "      <th>std</th>\n",
       "      <th>min</th>\n",
       "      <th>25%</th>\n",
       "      <th>50%</th>\n",
       "      <th>75%</th>\n",
       "      <th>max</th>\n",
       "    </tr>\n",
       "  </thead>\n",
       "  <tbody>\n",
       "    <tr>\n",
       "      <th>Value Subscribed</th>\n",
       "      <td>1174.00</td>\n",
       "      <td>43340.05</td>\n",
       "      <td>605355.93</td>\n",
       "      <td>0.00</td>\n",
       "      <td>1085.00</td>\n",
       "      <td>2100.00</td>\n",
       "      <td>5250.00</td>\n",
       "      <td>15625001.00</td>\n",
       "    </tr>\n",
       "  </tbody>\n",
       "</table>\n",
       "</div>"
      ],
      "text/plain": [
       "                   count     mean       std  min     25%     50%     75%  \\\n",
       "Value Subscribed 1174.00 43340.05 605355.93 0.00 1085.00 2100.00 5250.00   \n",
       "\n",
       "                         max  \n",
       "Value Subscribed 15625001.00  "
      ]
     },
     "execution_count": 32,
     "metadata": {},
     "output_type": "execute_result"
    },
    {
     "name": "stderr",
     "output_type": "stream",
     "text": [
      "<ipython-input-32-6011e9244a56>:10: DeprecationWarning: `np.object` is a deprecated alias for the builtin `object`. To silence this warning, use `object` by itself. Doing this will not modify any behavior and is safe. \n",
      "Deprecated in NumPy 1.20; for more details and guidance: https://numpy.org/devdocs/release/1.20.0-notes.html#deprecations\n",
      "  df.describe(include=[np.object]).transpose()\n"
     ]
    },
    {
     "data": {
      "text/html": [
       "<div>\n",
       "<style scoped>\n",
       "    .dataframe tbody tr th:only-of-type {\n",
       "        vertical-align: middle;\n",
       "    }\n",
       "\n",
       "    .dataframe tbody tr th {\n",
       "        vertical-align: top;\n",
       "    }\n",
       "\n",
       "    .dataframe thead th {\n",
       "        text-align: right;\n",
       "    }\n",
       "</style>\n",
       "<table border=\"1\" class=\"dataframe\">\n",
       "  <thead>\n",
       "    <tr style=\"text-align: right;\">\n",
       "      <th></th>\n",
       "      <th>count</th>\n",
       "      <th>unique</th>\n",
       "      <th>top</th>\n",
       "      <th>freq</th>\n",
       "    </tr>\n",
       "  </thead>\n",
       "  <tbody>\n",
       "    <tr>\n",
       "      <th>Beneficiary State</th>\n",
       "      <td>1161</td>\n",
       "      <td>70</td>\n",
       "      <td>Michigan</td>\n",
       "      <td>210</td>\n",
       "    </tr>\n",
       "    <tr>\n",
       "      <th>Beneficiary Country</th>\n",
       "      <td>1168</td>\n",
       "      <td>17</td>\n",
       "      <td>United States</td>\n",
       "      <td>1019</td>\n",
       "    </tr>\n",
       "  </tbody>\n",
       "</table>\n",
       "</div>"
      ],
      "text/plain": [
       "                    count unique            top  freq\n",
       "Beneficiary State    1161     70       Michigan   210\n",
       "Beneficiary Country  1168     17  United States  1019"
      ]
     },
     "execution_count": 32,
     "metadata": {},
     "output_type": "execute_result"
    },
    {
     "data": {
      "text/plain": [
       "Michigan            210\n",
       "California          119\n",
       "Ontario              97\n",
       "Florida              83\n",
       "Texas                62\n",
       "                   ... \n",
       "Wyoming               1\n",
       "Estado de México      1\n",
       "Nova Scotia           1\n",
       "Victoria              1\n",
       "North Dakota          1\n",
       "Name: Beneficiary State, Length: 70, dtype: int64"
      ]
     },
     "execution_count": 32,
     "metadata": {},
     "output_type": "execute_result"
    },
    {
     "data": {
      "text/plain": [
       "United States     1019\n",
       "Canada             121\n",
       "United Kingdom       5\n",
       "Australia            4\n",
       "Switzerland          3\n",
       "Germany              2\n",
       "Netherlands          2\n",
       "Cayman Islands       2\n",
       "New Zealand          2\n",
       "Saudi Arabia         1\n",
       "Ireland              1\n",
       "Malta                1\n",
       "Dubai                1\n",
       "Mexico               1\n",
       "Singapore            1\n",
       "Spain                1\n",
       "France               1\n",
       "Name: Beneficiary Country, dtype: int64"
      ]
     },
     "execution_count": 32,
     "metadata": {},
     "output_type": "execute_result"
    },
    {
     "name": "stdout",
     "output_type": "stream",
     "text": [
      "\n",
      "Cluster 1:\n",
      "Number of Instances: 3\n"
     ]
    },
    {
     "data": {
      "text/html": [
       "<div>\n",
       "<style scoped>\n",
       "    .dataframe tbody tr th:only-of-type {\n",
       "        vertical-align: middle;\n",
       "    }\n",
       "\n",
       "    .dataframe tbody tr th {\n",
       "        vertical-align: top;\n",
       "    }\n",
       "\n",
       "    .dataframe thead th {\n",
       "        text-align: right;\n",
       "    }\n",
       "</style>\n",
       "<table border=\"1\" class=\"dataframe\">\n",
       "  <thead>\n",
       "    <tr style=\"text-align: right;\">\n",
       "      <th></th>\n",
       "      <th>count</th>\n",
       "      <th>mean</th>\n",
       "      <th>std</th>\n",
       "      <th>min</th>\n",
       "      <th>25%</th>\n",
       "      <th>50%</th>\n",
       "      <th>75%</th>\n",
       "      <th>max</th>\n",
       "    </tr>\n",
       "  </thead>\n",
       "  <tbody>\n",
       "    <tr>\n",
       "      <th>Value Subscribed</th>\n",
       "      <td>3.00</td>\n",
       "      <td>11108333.83</td>\n",
       "      <td>4326975.00</td>\n",
       "      <td>7000000.00</td>\n",
       "      <td>8850000.25</td>\n",
       "      <td>10700000.50</td>\n",
       "      <td>13162500.75</td>\n",
       "      <td>15625001.00</td>\n",
       "    </tr>\n",
       "  </tbody>\n",
       "</table>\n",
       "</div>"
      ],
      "text/plain": [
       "                  count        mean        std        min        25%  \\\n",
       "Value Subscribed   3.00 11108333.83 4326975.00 7000000.00 8850000.25   \n",
       "\n",
       "                         50%         75%         max  \n",
       "Value Subscribed 10700000.50 13162500.75 15625001.00  "
      ]
     },
     "execution_count": 32,
     "metadata": {},
     "output_type": "execute_result"
    },
    {
     "data": {
      "text/html": [
       "<div>\n",
       "<style scoped>\n",
       "    .dataframe tbody tr th:only-of-type {\n",
       "        vertical-align: middle;\n",
       "    }\n",
       "\n",
       "    .dataframe tbody tr th {\n",
       "        vertical-align: top;\n",
       "    }\n",
       "\n",
       "    .dataframe thead th {\n",
       "        text-align: right;\n",
       "    }\n",
       "</style>\n",
       "<table border=\"1\" class=\"dataframe\">\n",
       "  <thead>\n",
       "    <tr style=\"text-align: right;\">\n",
       "      <th></th>\n",
       "      <th>count</th>\n",
       "      <th>unique</th>\n",
       "      <th>top</th>\n",
       "      <th>freq</th>\n",
       "    </tr>\n",
       "  </thead>\n",
       "  <tbody>\n",
       "    <tr>\n",
       "      <th>Beneficiary State</th>\n",
       "      <td>3</td>\n",
       "      <td>1</td>\n",
       "      <td>New York</td>\n",
       "      <td>3</td>\n",
       "    </tr>\n",
       "    <tr>\n",
       "      <th>Beneficiary Country</th>\n",
       "      <td>3</td>\n",
       "      <td>1</td>\n",
       "      <td>United States</td>\n",
       "      <td>3</td>\n",
       "    </tr>\n",
       "  </tbody>\n",
       "</table>\n",
       "</div>"
      ],
      "text/plain": [
       "                    count unique            top freq\n",
       "Beneficiary State       3      1       New York    3\n",
       "Beneficiary Country     3      1  United States    3"
      ]
     },
     "execution_count": 32,
     "metadata": {},
     "output_type": "execute_result"
    },
    {
     "data": {
      "text/plain": [
       "New York    3\n",
       "Name: Beneficiary State, dtype: int64"
      ]
     },
     "execution_count": 32,
     "metadata": {},
     "output_type": "execute_result"
    },
    {
     "data": {
      "text/plain": [
       "United States    3\n",
       "Name: Beneficiary Country, dtype: int64"
      ]
     },
     "execution_count": 32,
     "metadata": {},
     "output_type": "execute_result"
    },
    {
     "name": "stdout",
     "output_type": "stream",
     "text": [
      "\n",
      "Cluster 2:\n",
      "Number of Instances: 121\n"
     ]
    },
    {
     "data": {
      "text/html": [
       "<div>\n",
       "<style scoped>\n",
       "    .dataframe tbody tr th:only-of-type {\n",
       "        vertical-align: middle;\n",
       "    }\n",
       "\n",
       "    .dataframe tbody tr th {\n",
       "        vertical-align: top;\n",
       "    }\n",
       "\n",
       "    .dataframe thead th {\n",
       "        text-align: right;\n",
       "    }\n",
       "</style>\n",
       "<table border=\"1\" class=\"dataframe\">\n",
       "  <thead>\n",
       "    <tr style=\"text-align: right;\">\n",
       "      <th></th>\n",
       "      <th>count</th>\n",
       "      <th>mean</th>\n",
       "      <th>std</th>\n",
       "      <th>min</th>\n",
       "      <th>25%</th>\n",
       "      <th>50%</th>\n",
       "      <th>75%</th>\n",
       "      <th>max</th>\n",
       "    </tr>\n",
       "  </thead>\n",
       "  <tbody>\n",
       "    <tr>\n",
       "      <th>Value Subscribed</th>\n",
       "      <td>121.00</td>\n",
       "      <td>25977.90</td>\n",
       "      <td>63078.68</td>\n",
       "      <td>1050.00</td>\n",
       "      <td>2100.00</td>\n",
       "      <td>7770.00</td>\n",
       "      <td>20125.00</td>\n",
       "      <td>542500.00</td>\n",
       "    </tr>\n",
       "  </tbody>\n",
       "</table>\n",
       "</div>"
      ],
      "text/plain": [
       "                  count     mean      std     min     25%     50%      75%  \\\n",
       "Value Subscribed 121.00 25977.90 63078.68 1050.00 2100.00 7770.00 20125.00   \n",
       "\n",
       "                       max  \n",
       "Value Subscribed 542500.00  "
      ]
     },
     "execution_count": 32,
     "metadata": {},
     "output_type": "execute_result"
    },
    {
     "data": {
      "text/html": [
       "<div>\n",
       "<style scoped>\n",
       "    .dataframe tbody tr th:only-of-type {\n",
       "        vertical-align: middle;\n",
       "    }\n",
       "\n",
       "    .dataframe tbody tr th {\n",
       "        vertical-align: top;\n",
       "    }\n",
       "\n",
       "    .dataframe thead th {\n",
       "        text-align: right;\n",
       "    }\n",
       "</style>\n",
       "<table border=\"1\" class=\"dataframe\">\n",
       "  <thead>\n",
       "    <tr style=\"text-align: right;\">\n",
       "      <th></th>\n",
       "      <th>count</th>\n",
       "      <th>unique</th>\n",
       "      <th>top</th>\n",
       "      <th>freq</th>\n",
       "    </tr>\n",
       "  </thead>\n",
       "  <tbody>\n",
       "    <tr>\n",
       "      <th>Beneficiary State</th>\n",
       "      <td>121</td>\n",
       "      <td>5</td>\n",
       "      <td>Ontario</td>\n",
       "      <td>97</td>\n",
       "    </tr>\n",
       "    <tr>\n",
       "      <th>Beneficiary Country</th>\n",
       "      <td>121</td>\n",
       "      <td>1</td>\n",
       "      <td>Canada</td>\n",
       "      <td>121</td>\n",
       "    </tr>\n",
       "  </tbody>\n",
       "</table>\n",
       "</div>"
      ],
      "text/plain": [
       "                    count unique      top freq\n",
       "Beneficiary State     121      5  Ontario   97\n",
       "Beneficiary Country   121      1   Canada  121"
      ]
     },
     "execution_count": 32,
     "metadata": {},
     "output_type": "execute_result"
    },
    {
     "data": {
      "text/plain": [
       "Ontario             97\n",
       "British Columbia     9\n",
       "Québec               7\n",
       "Alberta              7\n",
       "Nova Scotia          1\n",
       "Name: Beneficiary State, dtype: int64"
      ]
     },
     "execution_count": 32,
     "metadata": {},
     "output_type": "execute_result"
    },
    {
     "data": {
      "text/plain": [
       "Canada    121\n",
       "Name: Beneficiary Country, dtype: int64"
      ]
     },
     "execution_count": 32,
     "metadata": {},
     "output_type": "execute_result"
    },
    {
     "name": "stdout",
     "output_type": "stream",
     "text": [
      "\n",
      "Cluster 3:\n",
      "Number of Instances: 3\n"
     ]
    },
    {
     "data": {
      "text/html": [
       "<div>\n",
       "<style scoped>\n",
       "    .dataframe tbody tr th:only-of-type {\n",
       "        vertical-align: middle;\n",
       "    }\n",
       "\n",
       "    .dataframe tbody tr th {\n",
       "        vertical-align: top;\n",
       "    }\n",
       "\n",
       "    .dataframe thead th {\n",
       "        text-align: right;\n",
       "    }\n",
       "</style>\n",
       "<table border=\"1\" class=\"dataframe\">\n",
       "  <thead>\n",
       "    <tr style=\"text-align: right;\">\n",
       "      <th></th>\n",
       "      <th>count</th>\n",
       "      <th>mean</th>\n",
       "      <th>std</th>\n",
       "      <th>min</th>\n",
       "      <th>25%</th>\n",
       "      <th>50%</th>\n",
       "      <th>75%</th>\n",
       "      <th>max</th>\n",
       "    </tr>\n",
       "  </thead>\n",
       "  <tbody>\n",
       "    <tr>\n",
       "      <th>Value Subscribed</th>\n",
       "      <td>3.00</td>\n",
       "      <td>2666666.92</td>\n",
       "      <td>1040832.94</td>\n",
       "      <td>1500000.25</td>\n",
       "      <td>2250000.38</td>\n",
       "      <td>3000000.50</td>\n",
       "      <td>3250000.25</td>\n",
       "      <td>3500000.00</td>\n",
       "    </tr>\n",
       "  </tbody>\n",
       "</table>\n",
       "</div>"
      ],
      "text/plain": [
       "                  count       mean        std        min        25%  \\\n",
       "Value Subscribed   3.00 2666666.92 1040832.94 1500000.25 2250000.38   \n",
       "\n",
       "                        50%        75%        max  \n",
       "Value Subscribed 3000000.50 3250000.25 3500000.00  "
      ]
     },
     "execution_count": 32,
     "metadata": {},
     "output_type": "execute_result"
    },
    {
     "data": {
      "text/html": [
       "<div>\n",
       "<style scoped>\n",
       "    .dataframe tbody tr th:only-of-type {\n",
       "        vertical-align: middle;\n",
       "    }\n",
       "\n",
       "    .dataframe tbody tr th {\n",
       "        vertical-align: top;\n",
       "    }\n",
       "\n",
       "    .dataframe thead th {\n",
       "        text-align: right;\n",
       "    }\n",
       "</style>\n",
       "<table border=\"1\" class=\"dataframe\">\n",
       "  <thead>\n",
       "    <tr style=\"text-align: right;\">\n",
       "      <th></th>\n",
       "      <th>count</th>\n",
       "      <th>unique</th>\n",
       "      <th>top</th>\n",
       "      <th>freq</th>\n",
       "    </tr>\n",
       "  </thead>\n",
       "  <tbody>\n",
       "    <tr>\n",
       "      <th>Beneficiary State</th>\n",
       "      <td>1</td>\n",
       "      <td>1</td>\n",
       "      <td>New York</td>\n",
       "      <td>1</td>\n",
       "    </tr>\n",
       "    <tr>\n",
       "      <th>Beneficiary Country</th>\n",
       "      <td>3</td>\n",
       "      <td>2</td>\n",
       "      <td>Cayman Islands</td>\n",
       "      <td>2</td>\n",
       "    </tr>\n",
       "  </tbody>\n",
       "</table>\n",
       "</div>"
      ],
      "text/plain": [
       "                    count unique             top freq\n",
       "Beneficiary State       1      1        New York    1\n",
       "Beneficiary Country     3      2  Cayman Islands    2"
      ]
     },
     "execution_count": 32,
     "metadata": {},
     "output_type": "execute_result"
    },
    {
     "data": {
      "text/plain": [
       "New York    1\n",
       "Name: Beneficiary State, dtype: int64"
      ]
     },
     "execution_count": 32,
     "metadata": {},
     "output_type": "execute_result"
    },
    {
     "data": {
      "text/plain": [
       "Cayman Islands    2\n",
       "United States     1\n",
       "Name: Beneficiary Country, dtype: int64"
      ]
     },
     "execution_count": 32,
     "metadata": {},
     "output_type": "execute_result"
    },
    {
     "name": "stdout",
     "output_type": "stream",
     "text": [
      "\n",
      "Cluster 4:\n",
      "Number of Instances: 1047\n"
     ]
    },
    {
     "data": {
      "text/html": [
       "<div>\n",
       "<style scoped>\n",
       "    .dataframe tbody tr th:only-of-type {\n",
       "        vertical-align: middle;\n",
       "    }\n",
       "\n",
       "    .dataframe tbody tr th {\n",
       "        vertical-align: top;\n",
       "    }\n",
       "\n",
       "    .dataframe thead th {\n",
       "        text-align: right;\n",
       "    }\n",
       "</style>\n",
       "<table border=\"1\" class=\"dataframe\">\n",
       "  <thead>\n",
       "    <tr style=\"text-align: right;\">\n",
       "      <th></th>\n",
       "      <th>count</th>\n",
       "      <th>mean</th>\n",
       "      <th>std</th>\n",
       "      <th>min</th>\n",
       "      <th>25%</th>\n",
       "      <th>50%</th>\n",
       "      <th>75%</th>\n",
       "      <th>max</th>\n",
       "    </tr>\n",
       "  </thead>\n",
       "  <tbody>\n",
       "    <tr>\n",
       "      <th>Value Subscribed</th>\n",
       "      <td>1047.00</td>\n",
       "      <td>6125.01</td>\n",
       "      <td>17728.90</td>\n",
       "      <td>0.00</td>\n",
       "      <td>1050.00</td>\n",
       "      <td>2012.50</td>\n",
       "      <td>5075.00</td>\n",
       "      <td>350000.00</td>\n",
       "    </tr>\n",
       "  </tbody>\n",
       "</table>\n",
       "</div>"
      ],
      "text/plain": [
       "                   count    mean      std  min     25%     50%     75%  \\\n",
       "Value Subscribed 1047.00 6125.01 17728.90 0.00 1050.00 2012.50 5075.00   \n",
       "\n",
       "                       max  \n",
       "Value Subscribed 350000.00  "
      ]
     },
     "execution_count": 32,
     "metadata": {},
     "output_type": "execute_result"
    },
    {
     "data": {
      "text/html": [
       "<div>\n",
       "<style scoped>\n",
       "    .dataframe tbody tr th:only-of-type {\n",
       "        vertical-align: middle;\n",
       "    }\n",
       "\n",
       "    .dataframe tbody tr th {\n",
       "        vertical-align: top;\n",
       "    }\n",
       "\n",
       "    .dataframe thead th {\n",
       "        text-align: right;\n",
       "    }\n",
       "</style>\n",
       "<table border=\"1\" class=\"dataframe\">\n",
       "  <thead>\n",
       "    <tr style=\"text-align: right;\">\n",
       "      <th></th>\n",
       "      <th>count</th>\n",
       "      <th>unique</th>\n",
       "      <th>top</th>\n",
       "      <th>freq</th>\n",
       "    </tr>\n",
       "  </thead>\n",
       "  <tbody>\n",
       "    <tr>\n",
       "      <th>Beneficiary State</th>\n",
       "      <td>1036</td>\n",
       "      <td>65</td>\n",
       "      <td>Michigan</td>\n",
       "      <td>210</td>\n",
       "    </tr>\n",
       "    <tr>\n",
       "      <th>Beneficiary Country</th>\n",
       "      <td>1041</td>\n",
       "      <td>15</td>\n",
       "      <td>United States</td>\n",
       "      <td>1015</td>\n",
       "    </tr>\n",
       "  </tbody>\n",
       "</table>\n",
       "</div>"
      ],
      "text/plain": [
       "                    count unique            top  freq\n",
       "Beneficiary State    1036     65       Michigan   210\n",
       "Beneficiary Country  1041     15  United States  1015"
      ]
     },
     "execution_count": 32,
     "metadata": {},
     "output_type": "execute_result"
    },
    {
     "data": {
      "text/plain": [
       "Michigan      210\n",
       "California    119\n",
       "Florida        83\n",
       "Texas          62\n",
       "New York       51\n",
       "             ... \n",
       "Wellington      1\n",
       "Bayern          1\n",
       "Wyoming         1\n",
       "Victoria        1\n",
       "Hamburg         1\n",
       "Name: Beneficiary State, Length: 65, dtype: int64"
      ]
     },
     "execution_count": 32,
     "metadata": {},
     "output_type": "execute_result"
    },
    {
     "data": {
      "text/plain": [
       "United States     1015\n",
       "United Kingdom       5\n",
       "Australia            4\n",
       "Switzerland          3\n",
       "Germany              2\n",
       "New Zealand          2\n",
       "Netherlands          2\n",
       "Spain                1\n",
       "Singapore            1\n",
       "Mexico               1\n",
       "Ireland              1\n",
       "Saudi Arabia         1\n",
       "Malta                1\n",
       "Dubai                1\n",
       "France               1\n",
       "Name: Beneficiary Country, dtype: int64"
      ]
     },
     "execution_count": 32,
     "metadata": {},
     "output_type": "execute_result"
    }
   ],
   "source": [
    "from scipy import stats\n",
    "import seaborn as sns\n",
    "\n",
    "pd.set_option(\"display.precision\", 2)\n",
    "pd.set_option('display.float_format', lambda x: '%.2f' % x)\n",
    "\n",
    "print('All Data:')\n",
    "print('Number of Instances: {}'.format(X.shape[0]))\n",
    "df.describe(include=[np.number]).transpose()\n",
    "df.describe(include=[np.object]).transpose()\n",
    "for col in cat_col_names:\n",
    "    df[col].value_counts()\n",
    "\n",
    "\n",
    "for i, label in enumerate(set(labels)):\n",
    "    n = df.iloc[labels==label].shape[0]\n",
    "      \n",
    "    print('\\nCluster {}:'.format(label))\n",
    "    print('Number of Instances: {}'.format(n))\n",
    "\n",
    "    df.iloc[labels==label].describe(include=[np.number]).transpose()\n",
    "    df.iloc[labels==label].describe(include=[object]).transpose()\n",
    "    for col in cat_col_names:\n",
    "        df.iloc[labels==label][col].value_counts()"
   ]
  },
  {
   "cell_type": "code",
   "execution_count": null,
   "metadata": {},
   "outputs": [],
   "source": []
  }
 ],
 "metadata": {
  "kernelspec": {
   "display_name": "Python 3",
   "language": "python",
   "name": "python3"
  },
  "language_info": {
   "codemirror_mode": {
    "name": "ipython",
    "version": 3
   },
   "file_extension": ".py",
   "mimetype": "text/x-python",
   "name": "python",
   "nbconvert_exporter": "python",
   "pygments_lexer": "ipython3",
   "version": "3.8.3"
  }
 },
 "nbformat": 4,
 "nbformat_minor": 5
}
